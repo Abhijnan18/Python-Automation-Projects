{
 "cells": [
  {
   "cell_type": "markdown",
   "metadata": {},
   "source": []
  },
  {
   "cell_type": "code",
   "execution_count": 1,
   "metadata": {},
   "outputs": [],
   "source": [
    "from openpyxl import load_workbook\n",
    "from openpyxl.chart import BarChart, Reference"
   ]
  },
  {
   "cell_type": "code",
   "execution_count": 2,
   "metadata": {},
   "outputs": [],
   "source": [
    "wb = load_workbook('pivot_table.xlsx')\n",
    "sheet = wb['Report']"
   ]
  },
  {
   "cell_type": "code",
   "execution_count": 4,
   "metadata": {},
   "outputs": [],
   "source": [
    "min_column = wb.active.min_column\n",
    "max_column = wb.active.max_column\n",
    "min_row = wb.active.min_row\n",
    "max_row = wb.active.max_row"
   ]
  },
  {
   "cell_type": "code",
   "execution_count": null,
   "metadata": {},
   "outputs": [],
   "source": [
    "barchart = BarChart()\n",
    "\n",
    "data = Reference(sheet,\n",
    "          min_col=min_column+1,\n",
    "          max_col=max_column,\n",
    "          min_row=min_row,\n",
    "          max_row=max_row)\n",
    "\n",
    "categories = Reference(sheet,\n",
    "          min_col=min_column+1,\n",
    "          max_col=max_column,\n",
    "          min_row=min_row,\n",
    "          max_row=max_row)\n"
   ]
  }
 ],
 "metadata": {
  "kernelspec": {
   "display_name": "base",
   "language": "python",
   "name": "python3"
  },
  "language_info": {
   "codemirror_mode": {
    "name": "ipython",
    "version": 3
   },
   "file_extension": ".py",
   "mimetype": "text/x-python",
   "name": "python",
   "nbconvert_exporter": "python",
   "pygments_lexer": "ipython3",
   "version": "3.11.5"
  }
 },
 "nbformat": 4,
 "nbformat_minor": 2
}
